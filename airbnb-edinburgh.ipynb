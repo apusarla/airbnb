{
 "cells": [
  {
   "cell_type": "code",
   "execution_count": 3,
   "metadata": {},
   "outputs": [],
   "source": [
    "import pandas as pd\n",
    "import seaborn as sns\n",
    "import matplotlib.pyplot as plt\n",
    "from sklearn.linear_model import LinearRegression\n",
    "from sklearn.model_selection import train_test_split\n",
    "from sklearn.metrics import r2_score\n",
    "\n",
    "%matplotlib inline"
   ]
  },
  {
   "cell_type": "markdown",
   "metadata": {},
   "source": [
    "#### Data Gathering"
   ]
  },
  {
   "cell_type": "code",
   "execution_count": 4,
   "metadata": {},
   "outputs": [],
   "source": [
    "#Reading the data\n",
    "calendar = pd.read_csv(\"./calendar.csv\")\n",
    "listings = pd.read_csv(\"./listings.csv\")\n",
    "reviews = pd.read_csv(\"./reviews.csv\")"
   ]
  },
  {
   "cell_type": "code",
   "execution_count": 5,
   "metadata": {},
   "outputs": [],
   "source": [
    "#### Data Assessment"
   ]
  },
  {
   "cell_type": "code",
   "execution_count": 6,
   "metadata": {},
   "outputs": [
    {
     "name": "stdout",
     "output_type": "stream",
     "text": [
      "calendar :  (4807780, 7)\n",
      "listings :  (13172, 16)\n",
      "reviews :  (581668, 6)\n"
     ]
    }
   ],
   "source": [
    "#know the Dimensions of the Datasets\n",
    "print(\"calendar : \", calendar.shape)\n",
    "print(\"listings : \", listings.shape)\n",
    "print(\"reviews : \", reviews.shape)"
   ]
  },
  {
   "cell_type": "code",
   "execution_count": 7,
   "metadata": {},
   "outputs": [
    {
     "data": {
      "text/html": [
       "<div>\n",
       "<style scoped>\n",
       "    .dataframe tbody tr th:only-of-type {\n",
       "        vertical-align: middle;\n",
       "    }\n",
       "\n",
       "    .dataframe tbody tr th {\n",
       "        vertical-align: top;\n",
       "    }\n",
       "\n",
       "    .dataframe thead th {\n",
       "        text-align: right;\n",
       "    }\n",
       "</style>\n",
       "<table border=\"1\" class=\"dataframe\">\n",
       "  <thead>\n",
       "    <tr style=\"text-align: right;\">\n",
       "      <th></th>\n",
       "      <th>listing_id</th>\n",
       "      <th>date</th>\n",
       "      <th>available</th>\n",
       "      <th>price</th>\n",
       "      <th>adjusted_price</th>\n",
       "      <th>minimum_nights</th>\n",
       "      <th>maximum_nights</th>\n",
       "    </tr>\n",
       "  </thead>\n",
       "  <tbody>\n",
       "    <tr>\n",
       "      <th>0</th>\n",
       "      <td>15420</td>\n",
       "      <td>2020-03-21</td>\n",
       "      <td>f</td>\n",
       "      <td>$65.00</td>\n",
       "      <td>$65.00</td>\n",
       "      <td>3</td>\n",
       "      <td>30</td>\n",
       "    </tr>\n",
       "    <tr>\n",
       "      <th>1</th>\n",
       "      <td>15420</td>\n",
       "      <td>2020-03-22</td>\n",
       "      <td>t</td>\n",
       "      <td>$65.00</td>\n",
       "      <td>$65.00</td>\n",
       "      <td>3</td>\n",
       "      <td>30</td>\n",
       "    </tr>\n",
       "    <tr>\n",
       "      <th>2</th>\n",
       "      <td>15420</td>\n",
       "      <td>2020-03-23</td>\n",
       "      <td>t</td>\n",
       "      <td>$65.00</td>\n",
       "      <td>$65.00</td>\n",
       "      <td>3</td>\n",
       "      <td>30</td>\n",
       "    </tr>\n",
       "    <tr>\n",
       "      <th>3</th>\n",
       "      <td>15420</td>\n",
       "      <td>2020-03-24</td>\n",
       "      <td>t</td>\n",
       "      <td>$65.00</td>\n",
       "      <td>$65.00</td>\n",
       "      <td>3</td>\n",
       "      <td>30</td>\n",
       "    </tr>\n",
       "    <tr>\n",
       "      <th>4</th>\n",
       "      <td>15420</td>\n",
       "      <td>2020-03-25</td>\n",
       "      <td>t</td>\n",
       "      <td>$65.00</td>\n",
       "      <td>$65.00</td>\n",
       "      <td>3</td>\n",
       "      <td>30</td>\n",
       "    </tr>\n",
       "  </tbody>\n",
       "</table>\n",
       "</div>"
      ],
      "text/plain": [
       "   listing_id        date available   price adjusted_price  minimum_nights  \\\n",
       "0       15420  2020-03-21         f  $65.00         $65.00               3   \n",
       "1       15420  2020-03-22         t  $65.00         $65.00               3   \n",
       "2       15420  2020-03-23         t  $65.00         $65.00               3   \n",
       "3       15420  2020-03-24         t  $65.00         $65.00               3   \n",
       "4       15420  2020-03-25         t  $65.00         $65.00               3   \n",
       "\n",
       "   maximum_nights  \n",
       "0              30  \n",
       "1              30  \n",
       "2              30  \n",
       "3              30  \n",
       "4              30  "
      ]
     },
     "execution_count": 7,
     "metadata": {},
     "output_type": "execute_result"
    }
   ],
   "source": [
    "calendar.head()"
   ]
  },
  {
   "cell_type": "code",
   "execution_count": 8,
   "metadata": {},
   "outputs": [
    {
     "name": "stdout",
     "output_type": "stream",
     "text": [
      "<class 'pandas.core.frame.DataFrame'>\n",
      "RangeIndex: 4807780 entries, 0 to 4807779\n",
      "Data columns (total 7 columns):\n",
      "listing_id        int64\n",
      "date              object\n",
      "available         object\n",
      "price             object\n",
      "adjusted_price    object\n",
      "minimum_nights    int64\n",
      "maximum_nights    int64\n",
      "dtypes: int64(3), object(4)\n",
      "memory usage: 256.8+ MB\n"
     ]
    }
   ],
   "source": [
    "calendar.info()"
   ]
  },
  {
   "cell_type": "code",
   "execution_count": 9,
   "metadata": {},
   "outputs": [
    {
     "data": {
      "text/html": [
       "<div>\n",
       "<style scoped>\n",
       "    .dataframe tbody tr th:only-of-type {\n",
       "        vertical-align: middle;\n",
       "    }\n",
       "\n",
       "    .dataframe tbody tr th {\n",
       "        vertical-align: top;\n",
       "    }\n",
       "\n",
       "    .dataframe thead th {\n",
       "        text-align: right;\n",
       "    }\n",
       "</style>\n",
       "<table border=\"1\" class=\"dataframe\">\n",
       "  <thead>\n",
       "    <tr style=\"text-align: right;\">\n",
       "      <th></th>\n",
       "      <th>id</th>\n",
       "      <th>name</th>\n",
       "      <th>host_id</th>\n",
       "      <th>host_name</th>\n",
       "      <th>neighbourhood_group</th>\n",
       "      <th>neighbourhood</th>\n",
       "      <th>latitude</th>\n",
       "      <th>longitude</th>\n",
       "      <th>room_type</th>\n",
       "      <th>price</th>\n",
       "      <th>minimum_nights</th>\n",
       "      <th>number_of_reviews</th>\n",
       "      <th>last_review</th>\n",
       "      <th>reviews_per_month</th>\n",
       "      <th>calculated_host_listings_count</th>\n",
       "      <th>availability_365</th>\n",
       "    </tr>\n",
       "  </thead>\n",
       "  <tbody>\n",
       "    <tr>\n",
       "      <th>0</th>\n",
       "      <td>15420</td>\n",
       "      <td>Georgian Boutique Apt City Centre</td>\n",
       "      <td>60423</td>\n",
       "      <td>Charlotte</td>\n",
       "      <td>NaN</td>\n",
       "      <td>Old Town, Princes Street and Leith Street</td>\n",
       "      <td>55.95689</td>\n",
       "      <td>-3.18768</td>\n",
       "      <td>Entire home/apt</td>\n",
       "      <td>80</td>\n",
       "      <td>3</td>\n",
       "      <td>328</td>\n",
       "      <td>2020-03-17</td>\n",
       "      <td>2.94</td>\n",
       "      <td>1</td>\n",
       "      <td>265</td>\n",
       "    </tr>\n",
       "    <tr>\n",
       "      <th>1</th>\n",
       "      <td>24288</td>\n",
       "      <td>Cool central Loft, sleeps 4, 2 double bed+en-s...</td>\n",
       "      <td>46498</td>\n",
       "      <td>Gordon</td>\n",
       "      <td>NaN</td>\n",
       "      <td>Canongate, Southside and Dumbiedykes</td>\n",
       "      <td>55.94383</td>\n",
       "      <td>-3.18445</td>\n",
       "      <td>Entire home/apt</td>\n",
       "      <td>95</td>\n",
       "      <td>2</td>\n",
       "      <td>217</td>\n",
       "      <td>2020-02-22</td>\n",
       "      <td>1.88</td>\n",
       "      <td>1</td>\n",
       "      <td>0</td>\n",
       "    </tr>\n",
       "    <tr>\n",
       "      <th>2</th>\n",
       "      <td>38628</td>\n",
       "      <td>Edinburgh Holiday Let</td>\n",
       "      <td>165635</td>\n",
       "      <td>Trish</td>\n",
       "      <td>NaN</td>\n",
       "      <td>Joppa</td>\n",
       "      <td>55.94215</td>\n",
       "      <td>-3.09640</td>\n",
       "      <td>Entire home/apt</td>\n",
       "      <td>46</td>\n",
       "      <td>4</td>\n",
       "      <td>55</td>\n",
       "      <td>2019-10-09</td>\n",
       "      <td>0.78</td>\n",
       "      <td>2</td>\n",
       "      <td>232</td>\n",
       "    </tr>\n",
       "    <tr>\n",
       "      <th>3</th>\n",
       "      <td>47616</td>\n",
       "      <td>City flat, close to nature and the Fringe</td>\n",
       "      <td>216203</td>\n",
       "      <td>Ben</td>\n",
       "      <td>NaN</td>\n",
       "      <td>Canongate, Southside and Dumbiedykes</td>\n",
       "      <td>55.94732</td>\n",
       "      <td>-3.17851</td>\n",
       "      <td>Private room</td>\n",
       "      <td>100</td>\n",
       "      <td>2</td>\n",
       "      <td>35</td>\n",
       "      <td>2019-10-13</td>\n",
       "      <td>0.74</td>\n",
       "      <td>1</td>\n",
       "      <td>0</td>\n",
       "    </tr>\n",
       "    <tr>\n",
       "      <th>4</th>\n",
       "      <td>48645</td>\n",
       "      <td>Large Sunny Room on Royal Mile</td>\n",
       "      <td>221474</td>\n",
       "      <td>Mark</td>\n",
       "      <td>NaN</td>\n",
       "      <td>Canongate, Southside and Dumbiedykes</td>\n",
       "      <td>55.95072</td>\n",
       "      <td>-3.18305</td>\n",
       "      <td>Private room</td>\n",
       "      <td>60</td>\n",
       "      <td>1</td>\n",
       "      <td>874</td>\n",
       "      <td>2020-03-17</td>\n",
       "      <td>7.85</td>\n",
       "      <td>2</td>\n",
       "      <td>118</td>\n",
       "    </tr>\n",
       "  </tbody>\n",
       "</table>\n",
       "</div>"
      ],
      "text/plain": [
       "      id                                               name  host_id  \\\n",
       "0  15420                  Georgian Boutique Apt City Centre    60423   \n",
       "1  24288  Cool central Loft, sleeps 4, 2 double bed+en-s...    46498   \n",
       "2  38628                              Edinburgh Holiday Let   165635   \n",
       "3  47616          City flat, close to nature and the Fringe   216203   \n",
       "4  48645                     Large Sunny Room on Royal Mile   221474   \n",
       "\n",
       "   host_name  neighbourhood_group                              neighbourhood  \\\n",
       "0  Charlotte                  NaN  Old Town, Princes Street and Leith Street   \n",
       "1     Gordon                  NaN       Canongate, Southside and Dumbiedykes   \n",
       "2      Trish                  NaN                                      Joppa   \n",
       "3        Ben                  NaN       Canongate, Southside and Dumbiedykes   \n",
       "4       Mark                  NaN       Canongate, Southside and Dumbiedykes   \n",
       "\n",
       "   latitude  longitude        room_type  price  minimum_nights  \\\n",
       "0  55.95689   -3.18768  Entire home/apt     80               3   \n",
       "1  55.94383   -3.18445  Entire home/apt     95               2   \n",
       "2  55.94215   -3.09640  Entire home/apt     46               4   \n",
       "3  55.94732   -3.17851     Private room    100               2   \n",
       "4  55.95072   -3.18305     Private room     60               1   \n",
       "\n",
       "   number_of_reviews last_review  reviews_per_month  \\\n",
       "0                328  2020-03-17               2.94   \n",
       "1                217  2020-02-22               1.88   \n",
       "2                 55  2019-10-09               0.78   \n",
       "3                 35  2019-10-13               0.74   \n",
       "4                874  2020-03-17               7.85   \n",
       "\n",
       "   calculated_host_listings_count  availability_365  \n",
       "0                               1               265  \n",
       "1                               1                 0  \n",
       "2                               2               232  \n",
       "3                               1                 0  \n",
       "4                               2               118  "
      ]
     },
     "execution_count": 9,
     "metadata": {},
     "output_type": "execute_result"
    }
   ],
   "source": [
    "listings.head()"
   ]
  },
  {
   "cell_type": "code",
   "execution_count": 10,
   "metadata": {},
   "outputs": [
    {
     "name": "stdout",
     "output_type": "stream",
     "text": [
      "<class 'pandas.core.frame.DataFrame'>\n",
      "RangeIndex: 13172 entries, 0 to 13171\n",
      "Data columns (total 16 columns):\n",
      "id                                13172 non-null int64\n",
      "name                              13172 non-null object\n",
      "host_id                           13172 non-null int64\n",
      "host_name                         13170 non-null object\n",
      "neighbourhood_group               0 non-null float64\n",
      "neighbourhood                     13172 non-null object\n",
      "latitude                          13172 non-null float64\n",
      "longitude                         13172 non-null float64\n",
      "room_type                         13172 non-null object\n",
      "price                             13172 non-null int64\n",
      "minimum_nights                    13172 non-null int64\n",
      "number_of_reviews                 13172 non-null int64\n",
      "last_review                       11615 non-null object\n",
      "reviews_per_month                 11611 non-null float64\n",
      "calculated_host_listings_count    13172 non-null int64\n",
      "availability_365                  13172 non-null int64\n",
      "dtypes: float64(4), int64(7), object(5)\n",
      "memory usage: 1.6+ MB\n"
     ]
    }
   ],
   "source": [
    "listings.info()"
   ]
  },
  {
   "cell_type": "code",
   "execution_count": 11,
   "metadata": {},
   "outputs": [
    {
     "data": {
      "text/html": [
       "<div>\n",
       "<style scoped>\n",
       "    .dataframe tbody tr th:only-of-type {\n",
       "        vertical-align: middle;\n",
       "    }\n",
       "\n",
       "    .dataframe tbody tr th {\n",
       "        vertical-align: top;\n",
       "    }\n",
       "\n",
       "    .dataframe thead th {\n",
       "        text-align: right;\n",
       "    }\n",
       "</style>\n",
       "<table border=\"1\" class=\"dataframe\">\n",
       "  <thead>\n",
       "    <tr style=\"text-align: right;\">\n",
       "      <th></th>\n",
       "      <th>listing_id</th>\n",
       "      <th>id</th>\n",
       "      <th>date</th>\n",
       "      <th>reviewer_id</th>\n",
       "      <th>reviewer_name</th>\n",
       "      <th>comments</th>\n",
       "    </tr>\n",
       "  </thead>\n",
       "  <tbody>\n",
       "    <tr>\n",
       "      <th>0</th>\n",
       "      <td>15420</td>\n",
       "      <td>171793</td>\n",
       "      <td>2011-01-18</td>\n",
       "      <td>186358</td>\n",
       "      <td>Nels</td>\n",
       "      <td>My wife and I stayed at this beautiful apartme...</td>\n",
       "    </tr>\n",
       "    <tr>\n",
       "      <th>1</th>\n",
       "      <td>15420</td>\n",
       "      <td>176350</td>\n",
       "      <td>2011-01-31</td>\n",
       "      <td>95218</td>\n",
       "      <td>Gareth</td>\n",
       "      <td>Charlotte couldn't have been a more thoughtful...</td>\n",
       "    </tr>\n",
       "    <tr>\n",
       "      <th>2</th>\n",
       "      <td>15420</td>\n",
       "      <td>232149</td>\n",
       "      <td>2011-04-19</td>\n",
       "      <td>429751</td>\n",
       "      <td>Guido</td>\n",
       "      <td>I went to Edinburgh for the second time on Apr...</td>\n",
       "    </tr>\n",
       "    <tr>\n",
       "      <th>3</th>\n",
       "      <td>15420</td>\n",
       "      <td>236073</td>\n",
       "      <td>2011-04-23</td>\n",
       "      <td>420830</td>\n",
       "      <td>Mariah</td>\n",
       "      <td>This flat was incredible. As other guests have...</td>\n",
       "    </tr>\n",
       "    <tr>\n",
       "      <th>4</th>\n",
       "      <td>15420</td>\n",
       "      <td>263713</td>\n",
       "      <td>2011-05-15</td>\n",
       "      <td>203827</td>\n",
       "      <td>Linda</td>\n",
       "      <td>Fantastic host and the apartment was perfect. ...</td>\n",
       "    </tr>\n",
       "  </tbody>\n",
       "</table>\n",
       "</div>"
      ],
      "text/plain": [
       "   listing_id      id        date  reviewer_id reviewer_name  \\\n",
       "0       15420  171793  2011-01-18       186358          Nels   \n",
       "1       15420  176350  2011-01-31        95218        Gareth   \n",
       "2       15420  232149  2011-04-19       429751         Guido   \n",
       "3       15420  236073  2011-04-23       420830        Mariah   \n",
       "4       15420  263713  2011-05-15       203827         Linda   \n",
       "\n",
       "                                            comments  \n",
       "0  My wife and I stayed at this beautiful apartme...  \n",
       "1  Charlotte couldn't have been a more thoughtful...  \n",
       "2  I went to Edinburgh for the second time on Apr...  \n",
       "3  This flat was incredible. As other guests have...  \n",
       "4  Fantastic host and the apartment was perfect. ...  "
      ]
     },
     "execution_count": 11,
     "metadata": {},
     "output_type": "execute_result"
    }
   ],
   "source": [
    "reviews.head()"
   ]
  },
  {
   "cell_type": "code",
   "execution_count": 12,
   "metadata": {},
   "outputs": [
    {
     "name": "stdout",
     "output_type": "stream",
     "text": [
      "<class 'pandas.core.frame.DataFrame'>\n",
      "RangeIndex: 581668 entries, 0 to 581667\n",
      "Data columns (total 6 columns):\n",
      "listing_id       581668 non-null int64\n",
      "id               581668 non-null int64\n",
      "date             581668 non-null object\n",
      "reviewer_id      581668 non-null int64\n",
      "reviewer_name    581668 non-null object\n",
      "comments         581513 non-null object\n",
      "dtypes: int64(3), object(3)\n",
      "memory usage: 26.6+ MB\n"
     ]
    }
   ],
   "source": [
    "reviews.info()"
   ]
  },
  {
   "cell_type": "code",
   "execution_count": 13,
   "metadata": {},
   "outputs": [
    {
     "data": {
      "text/plain": [
       "13172.0"
      ]
     },
     "execution_count": 13,
     "metadata": {},
     "output_type": "execute_result"
    }
   ],
   "source": [
    "# Verify the same number of listing ids\n",
    "calendar.shape[0]/365"
   ]
  },
  {
   "cell_type": "code",
   "execution_count": 14,
   "metadata": {},
   "outputs": [],
   "source": [
    "### 3) Prepare Data\n",
    "#Wrangle, clean, EDA and preprocess the data.\n",
    "\n",
    "#### Data Wrangling"
   ]
  },
  {
   "cell_type": "code",
   "execution_count": 15,
   "metadata": {},
   "outputs": [],
   "source": [
    "####Checking for null values"
   ]
  },
  {
   "cell_type": "code",
   "execution_count": 16,
   "metadata": {},
   "outputs": [
    {
     "data": {
      "text/plain": [
       "id                                0.000000\n",
       "name                              0.000000\n",
       "host_id                           0.000000\n",
       "host_name                         0.000152\n",
       "neighbourhood_group               1.000000\n",
       "neighbourhood                     0.000000\n",
       "latitude                          0.000000\n",
       "longitude                         0.000000\n",
       "room_type                         0.000000\n",
       "price                             0.000000\n",
       "minimum_nights                    0.000000\n",
       "number_of_reviews                 0.000000\n",
       "last_review                       0.118205\n",
       "reviews_per_month                 0.118509\n",
       "calculated_host_listings_count    0.000000\n",
       "availability_365                  0.000000\n",
       "dtype: float64"
      ]
     },
     "execution_count": 16,
     "metadata": {},
     "output_type": "execute_result"
    }
   ],
   "source": [
    "listings.isnull().mean()"
   ]
  },
  {
   "cell_type": "code",
   "execution_count": 17,
   "metadata": {},
   "outputs": [],
   "source": [
    "# removing unwanted column \"neighbourhood_group\"\n",
    "listings.drop('neighbourhood_group', axis=1, inplace=True)"
   ]
  },
  {
   "cell_type": "code",
   "execution_count": 18,
   "metadata": {},
   "outputs": [
    {
     "data": {
      "text/html": [
       "<div>\n",
       "<style scoped>\n",
       "    .dataframe tbody tr th:only-of-type {\n",
       "        vertical-align: middle;\n",
       "    }\n",
       "\n",
       "    .dataframe tbody tr th {\n",
       "        vertical-align: top;\n",
       "    }\n",
       "\n",
       "    .dataframe thead th {\n",
       "        text-align: right;\n",
       "    }\n",
       "</style>\n",
       "<table border=\"1\" class=\"dataframe\">\n",
       "  <thead>\n",
       "    <tr style=\"text-align: right;\">\n",
       "      <th></th>\n",
       "      <th>listing_id</th>\n",
       "      <th>date</th>\n",
       "      <th>available</th>\n",
       "      <th>price</th>\n",
       "      <th>adjusted_price</th>\n",
       "      <th>minimum_nights</th>\n",
       "      <th>maximum_nights</th>\n",
       "    </tr>\n",
       "  </thead>\n",
       "  <tbody>\n",
       "    <tr>\n",
       "      <th>0</th>\n",
       "      <td>15420</td>\n",
       "      <td>2020-03-21</td>\n",
       "      <td>f</td>\n",
       "      <td>$65.00</td>\n",
       "      <td>$65.00</td>\n",
       "      <td>3</td>\n",
       "      <td>30</td>\n",
       "    </tr>\n",
       "    <tr>\n",
       "      <th>1</th>\n",
       "      <td>15420</td>\n",
       "      <td>2020-03-22</td>\n",
       "      <td>t</td>\n",
       "      <td>$65.00</td>\n",
       "      <td>$65.00</td>\n",
       "      <td>3</td>\n",
       "      <td>30</td>\n",
       "    </tr>\n",
       "    <tr>\n",
       "      <th>2</th>\n",
       "      <td>15420</td>\n",
       "      <td>2020-03-23</td>\n",
       "      <td>t</td>\n",
       "      <td>$65.00</td>\n",
       "      <td>$65.00</td>\n",
       "      <td>3</td>\n",
       "      <td>30</td>\n",
       "    </tr>\n",
       "    <tr>\n",
       "      <th>3</th>\n",
       "      <td>15420</td>\n",
       "      <td>2020-03-24</td>\n",
       "      <td>t</td>\n",
       "      <td>$65.00</td>\n",
       "      <td>$65.00</td>\n",
       "      <td>3</td>\n",
       "      <td>30</td>\n",
       "    </tr>\n",
       "    <tr>\n",
       "      <th>4</th>\n",
       "      <td>15420</td>\n",
       "      <td>2020-03-25</td>\n",
       "      <td>t</td>\n",
       "      <td>$65.00</td>\n",
       "      <td>$65.00</td>\n",
       "      <td>3</td>\n",
       "      <td>30</td>\n",
       "    </tr>\n",
       "  </tbody>\n",
       "</table>\n",
       "</div>"
      ],
      "text/plain": [
       "   listing_id        date available   price adjusted_price  minimum_nights  \\\n",
       "0       15420  2020-03-21         f  $65.00         $65.00               3   \n",
       "1       15420  2020-03-22         t  $65.00         $65.00               3   \n",
       "2       15420  2020-03-23         t  $65.00         $65.00               3   \n",
       "3       15420  2020-03-24         t  $65.00         $65.00               3   \n",
       "4       15420  2020-03-25         t  $65.00         $65.00               3   \n",
       "\n",
       "   maximum_nights  \n",
       "0              30  \n",
       "1              30  \n",
       "2              30  \n",
       "3              30  \n",
       "4              30  "
      ]
     },
     "execution_count": 18,
     "metadata": {},
     "output_type": "execute_result"
    }
   ],
   "source": [
    "# 'price' column in 'calendar' dataset is Object/string, converting it to same as in 'listings' int64\n",
    "calendar.head()"
   ]
  },
  {
   "cell_type": "code",
   "execution_count": 19,
   "metadata": {},
   "outputs": [],
   "source": [
    "calendar['price'] = calendar['price'].str.replace(',', '')\n",
    "calendar['price'] = calendar['price'].str.replace('$', '')\n",
    "calendar['adjusted_price'] = calendar['adjusted_price'].str.replace(',', '')\n",
    "calendar['adjusted_price'] = calendar['adjusted_price'].str.replace('$', '')\n",
    "calendar['price'] = calendar['price'].astype(float)\n",
    "calendar['adjusted_price'] = calendar['adjusted_price'].astype(float)"
   ]
  },
  {
   "cell_type": "code",
   "execution_count": 20,
   "metadata": {},
   "outputs": [],
   "source": [
    "# 'available' column in 'calendar' dataset is Object/string, converting it to boolean\n",
    "calendar['available'] = calendar['available'] == 't'"
   ]
  },
  {
   "cell_type": "code",
   "execution_count": 21,
   "metadata": {},
   "outputs": [
    {
     "data": {
      "text/html": [
       "<div>\n",
       "<style scoped>\n",
       "    .dataframe tbody tr th:only-of-type {\n",
       "        vertical-align: middle;\n",
       "    }\n",
       "\n",
       "    .dataframe tbody tr th {\n",
       "        vertical-align: top;\n",
       "    }\n",
       "\n",
       "    .dataframe thead th {\n",
       "        text-align: right;\n",
       "    }\n",
       "</style>\n",
       "<table border=\"1\" class=\"dataframe\">\n",
       "  <thead>\n",
       "    <tr style=\"text-align: right;\">\n",
       "      <th></th>\n",
       "      <th>listing_id</th>\n",
       "      <th>date</th>\n",
       "      <th>available</th>\n",
       "      <th>price</th>\n",
       "      <th>adjusted_price</th>\n",
       "      <th>minimum_nights</th>\n",
       "      <th>maximum_nights</th>\n",
       "    </tr>\n",
       "  </thead>\n",
       "  <tbody>\n",
       "    <tr>\n",
       "      <th>0</th>\n",
       "      <td>15420</td>\n",
       "      <td>2020-03-21</td>\n",
       "      <td>False</td>\n",
       "      <td>65.0</td>\n",
       "      <td>65.0</td>\n",
       "      <td>3</td>\n",
       "      <td>30</td>\n",
       "    </tr>\n",
       "    <tr>\n",
       "      <th>1</th>\n",
       "      <td>15420</td>\n",
       "      <td>2020-03-22</td>\n",
       "      <td>True</td>\n",
       "      <td>65.0</td>\n",
       "      <td>65.0</td>\n",
       "      <td>3</td>\n",
       "      <td>30</td>\n",
       "    </tr>\n",
       "    <tr>\n",
       "      <th>2</th>\n",
       "      <td>15420</td>\n",
       "      <td>2020-03-23</td>\n",
       "      <td>True</td>\n",
       "      <td>65.0</td>\n",
       "      <td>65.0</td>\n",
       "      <td>3</td>\n",
       "      <td>30</td>\n",
       "    </tr>\n",
       "    <tr>\n",
       "      <th>3</th>\n",
       "      <td>15420</td>\n",
       "      <td>2020-03-24</td>\n",
       "      <td>True</td>\n",
       "      <td>65.0</td>\n",
       "      <td>65.0</td>\n",
       "      <td>3</td>\n",
       "      <td>30</td>\n",
       "    </tr>\n",
       "    <tr>\n",
       "      <th>4</th>\n",
       "      <td>15420</td>\n",
       "      <td>2020-03-25</td>\n",
       "      <td>True</td>\n",
       "      <td>65.0</td>\n",
       "      <td>65.0</td>\n",
       "      <td>3</td>\n",
       "      <td>30</td>\n",
       "    </tr>\n",
       "  </tbody>\n",
       "</table>\n",
       "</div>"
      ],
      "text/plain": [
       "   listing_id        date  available  price  adjusted_price  minimum_nights  \\\n",
       "0       15420  2020-03-21      False   65.0            65.0               3   \n",
       "1       15420  2020-03-22       True   65.0            65.0               3   \n",
       "2       15420  2020-03-23       True   65.0            65.0               3   \n",
       "3       15420  2020-03-24       True   65.0            65.0               3   \n",
       "4       15420  2020-03-25       True   65.0            65.0               3   \n",
       "\n",
       "   maximum_nights  \n",
       "0              30  \n",
       "1              30  \n",
       "2              30  \n",
       "3              30  \n",
       "4              30  "
      ]
     },
     "execution_count": 21,
     "metadata": {},
     "output_type": "execute_result"
    }
   ],
   "source": [
    "calendar.head()"
   ]
  },
  {
   "cell_type": "code",
   "execution_count": 22,
   "metadata": {},
   "outputs": [],
   "source": [
    "#sort by date\n",
    "calendar['date'].sort_values(ascending=True);"
   ]
  },
  {
   "cell_type": "code",
   "execution_count": 23,
   "metadata": {
    "scrolled": true
   },
   "outputs": [
    {
     "data": {
      "text/plain": [
       "(   listing_id        date  available  price  adjusted_price  minimum_nights  \\\n",
       " 0       15420  2020-03-21      False   65.0            65.0               3   \n",
       " \n",
       "    maximum_nights  \n",
       " 0              30  ,\n",
       "          listing_id        date  available  price  adjusted_price  \\\n",
       " 4807779    42922096  2021-03-20      False   56.0            56.0   \n",
       " \n",
       "          minimum_nights  maximum_nights  \n",
       " 4807779               1            1125  )"
      ]
     },
     "execution_count": 23,
     "metadata": {},
     "output_type": "execute_result"
    }
   ],
   "source": [
    "calendar.head(1),calendar.tail(1)"
   ]
  },
  {
   "cell_type": "code",
   "execution_count": 24,
   "metadata": {},
   "outputs": [],
   "source": [
    "# converting date column from object/string to actual date type\n",
    "calendar['date'] = pd.to_datetime(calendar['date'])\n"
   ]
  },
  {
   "cell_type": "code",
   "execution_count": 25,
   "metadata": {},
   "outputs": [
    {
     "data": {
      "text/plain": [
       "listing_id                 int64\n",
       "date              datetime64[ns]\n",
       "available                   bool\n",
       "price                    float64\n",
       "adjusted_price           float64\n",
       "minimum_nights             int64\n",
       "maximum_nights             int64\n",
       "dtype: object"
      ]
     },
     "execution_count": 25,
     "metadata": {},
     "output_type": "execute_result"
    }
   ],
   "source": [
    "calendar.dtypes"
   ]
  },
  {
   "cell_type": "markdown",
   "metadata": {},
   "source": [
    "Exploratory Data Analysis¶"
   ]
  },
  {
   "cell_type": "code",
   "execution_count": 26,
   "metadata": {},
   "outputs": [],
   "source": [
    "df = calendar.groupby('listing_id')"
   ]
  },
  {
   "cell_type": "code",
   "execution_count": 27,
   "metadata": {},
   "outputs": [
    {
     "data": {
      "text/plain": [
       "606112325.0"
      ]
     },
     "execution_count": 27,
     "metadata": {},
     "output_type": "execute_result"
    }
   ],
   "source": [
    "# Total revenue generated for all rooms for the year\n",
    "calendar['price'].sum()"
   ]
  },
  {
   "cell_type": "code",
   "execution_count": 28,
   "metadata": {},
   "outputs": [
    {
     "data": {
      "text/plain": [
       "28.724151271480807"
      ]
     },
     "execution_count": 28,
     "metadata": {},
     "output_type": "execute_result"
    }
   ],
   "source": [
    "# Total occupancy/availability ratio/percentage of all the properties for the whole year\n",
    "calendar['available'].mean()*100"
   ]
  },
  {
   "cell_type": "code",
   "execution_count": 29,
   "metadata": {},
   "outputs": [
    {
     "data": {
      "text/plain": [
       "126.06906410027086"
      ]
     },
     "execution_count": 29,
     "metadata": {},
     "output_type": "execute_result"
    }
   ],
   "source": [
    "# Average price of each night for each listing for all the properties\n",
    "df['price'].mean().mean()"
   ]
  },
  {
   "cell_type": "code",
   "execution_count": 30,
   "metadata": {},
   "outputs": [
    {
     "data": {
      "text/plain": [
       "13172.0"
      ]
     },
     "execution_count": 30,
     "metadata": {},
     "output_type": "execute_result"
    }
   ],
   "source": [
    "# get number of listings. As we have seen that calendar dataset holds all the listing for the whole year, we are diving it by 365\n",
    "calendar.shape[0]/365\n",
    "# see this number is matching with listing's Rows....that means we have right samples"
   ]
  },
  {
   "cell_type": "code",
   "execution_count": 31,
   "metadata": {},
   "outputs": [
    {
     "data": {
      "text/plain": [
       "46015.20839659885"
      ]
     },
     "execution_count": 31,
     "metadata": {},
     "output_type": "execute_result"
    }
   ],
   "source": [
    "# average revenue per listing for the whole year\n",
    "avg_revenue_annual = calendar['price'].sum()/(calendar.shape[0]/365)\n",
    "avg_revenue_annual"
   ]
  },
  {
   "cell_type": "markdown",
   "metadata": {},
   "source": [
    "Now we need to merge the dataset's somehow"
   ]
  },
  {
   "cell_type": "code",
   "execution_count": 32,
   "metadata": {},
   "outputs": [
    {
     "data": {
      "text/html": [
       "<div>\n",
       "<style scoped>\n",
       "    .dataframe tbody tr th:only-of-type {\n",
       "        vertical-align: middle;\n",
       "    }\n",
       "\n",
       "    .dataframe tbody tr th {\n",
       "        vertical-align: top;\n",
       "    }\n",
       "\n",
       "    .dataframe thead th {\n",
       "        text-align: right;\n",
       "    }\n",
       "</style>\n",
       "<table border=\"1\" class=\"dataframe\">\n",
       "  <thead>\n",
       "    <tr style=\"text-align: right;\">\n",
       "      <th></th>\n",
       "      <th>id</th>\n",
       "      <th>name</th>\n",
       "      <th>host_id</th>\n",
       "      <th>host_name</th>\n",
       "      <th>neighbourhood</th>\n",
       "      <th>latitude</th>\n",
       "      <th>longitude</th>\n",
       "      <th>room_type</th>\n",
       "      <th>price</th>\n",
       "      <th>minimum_nights</th>\n",
       "      <th>number_of_reviews</th>\n",
       "      <th>last_review</th>\n",
       "      <th>reviews_per_month</th>\n",
       "      <th>calculated_host_listings_count</th>\n",
       "      <th>availability_365</th>\n",
       "    </tr>\n",
       "  </thead>\n",
       "  <tbody>\n",
       "    <tr>\n",
       "      <th>0</th>\n",
       "      <td>15420</td>\n",
       "      <td>Georgian Boutique Apt City Centre</td>\n",
       "      <td>60423</td>\n",
       "      <td>Charlotte</td>\n",
       "      <td>Old Town, Princes Street and Leith Street</td>\n",
       "      <td>55.95689</td>\n",
       "      <td>-3.18768</td>\n",
       "      <td>Entire home/apt</td>\n",
       "      <td>80</td>\n",
       "      <td>3</td>\n",
       "      <td>328</td>\n",
       "      <td>2020-03-17</td>\n",
       "      <td>2.94</td>\n",
       "      <td>1</td>\n",
       "      <td>265</td>\n",
       "    </tr>\n",
       "    <tr>\n",
       "      <th>1</th>\n",
       "      <td>24288</td>\n",
       "      <td>Cool central Loft, sleeps 4, 2 double bed+en-s...</td>\n",
       "      <td>46498</td>\n",
       "      <td>Gordon</td>\n",
       "      <td>Canongate, Southside and Dumbiedykes</td>\n",
       "      <td>55.94383</td>\n",
       "      <td>-3.18445</td>\n",
       "      <td>Entire home/apt</td>\n",
       "      <td>95</td>\n",
       "      <td>2</td>\n",
       "      <td>217</td>\n",
       "      <td>2020-02-22</td>\n",
       "      <td>1.88</td>\n",
       "      <td>1</td>\n",
       "      <td>0</td>\n",
       "    </tr>\n",
       "    <tr>\n",
       "      <th>2</th>\n",
       "      <td>38628</td>\n",
       "      <td>Edinburgh Holiday Let</td>\n",
       "      <td>165635</td>\n",
       "      <td>Trish</td>\n",
       "      <td>Joppa</td>\n",
       "      <td>55.94215</td>\n",
       "      <td>-3.09640</td>\n",
       "      <td>Entire home/apt</td>\n",
       "      <td>46</td>\n",
       "      <td>4</td>\n",
       "      <td>55</td>\n",
       "      <td>2019-10-09</td>\n",
       "      <td>0.78</td>\n",
       "      <td>2</td>\n",
       "      <td>232</td>\n",
       "    </tr>\n",
       "    <tr>\n",
       "      <th>3</th>\n",
       "      <td>47616</td>\n",
       "      <td>City flat, close to nature and the Fringe</td>\n",
       "      <td>216203</td>\n",
       "      <td>Ben</td>\n",
       "      <td>Canongate, Southside and Dumbiedykes</td>\n",
       "      <td>55.94732</td>\n",
       "      <td>-3.17851</td>\n",
       "      <td>Private room</td>\n",
       "      <td>100</td>\n",
       "      <td>2</td>\n",
       "      <td>35</td>\n",
       "      <td>2019-10-13</td>\n",
       "      <td>0.74</td>\n",
       "      <td>1</td>\n",
       "      <td>0</td>\n",
       "    </tr>\n",
       "    <tr>\n",
       "      <th>4</th>\n",
       "      <td>48645</td>\n",
       "      <td>Large Sunny Room on Royal Mile</td>\n",
       "      <td>221474</td>\n",
       "      <td>Mark</td>\n",
       "      <td>Canongate, Southside and Dumbiedykes</td>\n",
       "      <td>55.95072</td>\n",
       "      <td>-3.18305</td>\n",
       "      <td>Private room</td>\n",
       "      <td>60</td>\n",
       "      <td>1</td>\n",
       "      <td>874</td>\n",
       "      <td>2020-03-17</td>\n",
       "      <td>7.85</td>\n",
       "      <td>2</td>\n",
       "      <td>118</td>\n",
       "    </tr>\n",
       "  </tbody>\n",
       "</table>\n",
       "</div>"
      ],
      "text/plain": [
       "      id                                               name  host_id  \\\n",
       "0  15420                  Georgian Boutique Apt City Centre    60423   \n",
       "1  24288  Cool central Loft, sleeps 4, 2 double bed+en-s...    46498   \n",
       "2  38628                              Edinburgh Holiday Let   165635   \n",
       "3  47616          City flat, close to nature and the Fringe   216203   \n",
       "4  48645                     Large Sunny Room on Royal Mile   221474   \n",
       "\n",
       "   host_name                              neighbourhood  latitude  longitude  \\\n",
       "0  Charlotte  Old Town, Princes Street and Leith Street  55.95689   -3.18768   \n",
       "1     Gordon       Canongate, Southside and Dumbiedykes  55.94383   -3.18445   \n",
       "2      Trish                                      Joppa  55.94215   -3.09640   \n",
       "3        Ben       Canongate, Southside and Dumbiedykes  55.94732   -3.17851   \n",
       "4       Mark       Canongate, Southside and Dumbiedykes  55.95072   -3.18305   \n",
       "\n",
       "         room_type  price  minimum_nights  number_of_reviews last_review  \\\n",
       "0  Entire home/apt     80               3                328  2020-03-17   \n",
       "1  Entire home/apt     95               2                217  2020-02-22   \n",
       "2  Entire home/apt     46               4                 55  2019-10-09   \n",
       "3     Private room    100               2                 35  2019-10-13   \n",
       "4     Private room     60               1                874  2020-03-17   \n",
       "\n",
       "   reviews_per_month  calculated_host_listings_count  availability_365  \n",
       "0               2.94                               1               265  \n",
       "1               1.88                               1                 0  \n",
       "2               0.78                               2               232  \n",
       "3               0.74                               1                 0  \n",
       "4               7.85                               2               118  "
      ]
     },
     "execution_count": 32,
     "metadata": {},
     "output_type": "execute_result"
    }
   ],
   "source": [
    "listings.head()"
   ]
  },
  {
   "cell_type": "code",
   "execution_count": 33,
   "metadata": {},
   "outputs": [
    {
     "data": {
      "text/html": [
       "<div>\n",
       "<style scoped>\n",
       "    .dataframe tbody tr th:only-of-type {\n",
       "        vertical-align: middle;\n",
       "    }\n",
       "\n",
       "    .dataframe tbody tr th {\n",
       "        vertical-align: top;\n",
       "    }\n",
       "\n",
       "    .dataframe thead th {\n",
       "        text-align: right;\n",
       "    }\n",
       "</style>\n",
       "<table border=\"1\" class=\"dataframe\">\n",
       "  <thead>\n",
       "    <tr style=\"text-align: right;\">\n",
       "      <th></th>\n",
       "      <th>listing_id</th>\n",
       "      <th>date</th>\n",
       "      <th>available</th>\n",
       "      <th>price</th>\n",
       "      <th>adjusted_price</th>\n",
       "      <th>minimum_nights</th>\n",
       "      <th>maximum_nights</th>\n",
       "    </tr>\n",
       "  </thead>\n",
       "  <tbody>\n",
       "    <tr>\n",
       "      <th>0</th>\n",
       "      <td>15420</td>\n",
       "      <td>2020-03-21</td>\n",
       "      <td>False</td>\n",
       "      <td>65.0</td>\n",
       "      <td>65.0</td>\n",
       "      <td>3</td>\n",
       "      <td>30</td>\n",
       "    </tr>\n",
       "    <tr>\n",
       "      <th>1</th>\n",
       "      <td>15420</td>\n",
       "      <td>2020-03-22</td>\n",
       "      <td>True</td>\n",
       "      <td>65.0</td>\n",
       "      <td>65.0</td>\n",
       "      <td>3</td>\n",
       "      <td>30</td>\n",
       "    </tr>\n",
       "    <tr>\n",
       "      <th>2</th>\n",
       "      <td>15420</td>\n",
       "      <td>2020-03-23</td>\n",
       "      <td>True</td>\n",
       "      <td>65.0</td>\n",
       "      <td>65.0</td>\n",
       "      <td>3</td>\n",
       "      <td>30</td>\n",
       "    </tr>\n",
       "    <tr>\n",
       "      <th>3</th>\n",
       "      <td>15420</td>\n",
       "      <td>2020-03-24</td>\n",
       "      <td>True</td>\n",
       "      <td>65.0</td>\n",
       "      <td>65.0</td>\n",
       "      <td>3</td>\n",
       "      <td>30</td>\n",
       "    </tr>\n",
       "    <tr>\n",
       "      <th>4</th>\n",
       "      <td>15420</td>\n",
       "      <td>2020-03-25</td>\n",
       "      <td>True</td>\n",
       "      <td>65.0</td>\n",
       "      <td>65.0</td>\n",
       "      <td>3</td>\n",
       "      <td>30</td>\n",
       "    </tr>\n",
       "  </tbody>\n",
       "</table>\n",
       "</div>"
      ],
      "text/plain": [
       "   listing_id       date  available  price  adjusted_price  minimum_nights  \\\n",
       "0       15420 2020-03-21      False   65.0            65.0               3   \n",
       "1       15420 2020-03-22       True   65.0            65.0               3   \n",
       "2       15420 2020-03-23       True   65.0            65.0               3   \n",
       "3       15420 2020-03-24       True   65.0            65.0               3   \n",
       "4       15420 2020-03-25       True   65.0            65.0               3   \n",
       "\n",
       "   maximum_nights  \n",
       "0              30  \n",
       "1              30  \n",
       "2              30  \n",
       "3              30  \n",
       "4              30  "
      ]
     },
     "execution_count": 33,
     "metadata": {},
     "output_type": "execute_result"
    }
   ],
   "source": [
    "calendar.head()"
   ]
  },
  {
   "cell_type": "code",
   "execution_count": 34,
   "metadata": {},
   "outputs": [
    {
     "data": {
      "text/plain": [
       "Old Town, Princes Street and Leith Street    1084\n",
       "Deans Village                                 613\n",
       "Tollcross                                     598\n",
       "Meadows and Southside                         497\n",
       "Hillside and Calton Hill                      483\n",
       "                                             ... \n",
       "Clovenstone and Wester Hailes                  16\n",
       "Fairmilehead                                   16\n",
       "Corstorphine North                             14\n",
       "Moredun and Craigour                           13\n",
       "Queensferry West                               10\n",
       "Name: neighbourhood, Length: 111, dtype: int64"
      ]
     },
     "execution_count": 34,
     "metadata": {},
     "output_type": "execute_result"
    }
   ],
   "source": [
    "# if we observe above data, we can see that we can join both datasets if we rename the id column in listings to listing_id\n",
    "listings['neighbourhood'].value_counts()"
   ]
  },
  {
   "cell_type": "code",
   "execution_count": 35,
   "metadata": {},
   "outputs": [],
   "source": [
    "# we are interested only in neighbour hood, so we will take out neighbourhood based upon listing_id from the listings dataset\n",
    "listings_nh = listings[['id','neighbourhood']]"
   ]
  },
  {
   "cell_type": "code",
   "execution_count": 36,
   "metadata": {},
   "outputs": [
    {
     "data": {
      "text/html": [
       "<div>\n",
       "<style scoped>\n",
       "    .dataframe tbody tr th:only-of-type {\n",
       "        vertical-align: middle;\n",
       "    }\n",
       "\n",
       "    .dataframe tbody tr th {\n",
       "        vertical-align: top;\n",
       "    }\n",
       "\n",
       "    .dataframe thead th {\n",
       "        text-align: right;\n",
       "    }\n",
       "</style>\n",
       "<table border=\"1\" class=\"dataframe\">\n",
       "  <thead>\n",
       "    <tr style=\"text-align: right;\">\n",
       "      <th></th>\n",
       "      <th>id</th>\n",
       "      <th>neighbourhood</th>\n",
       "    </tr>\n",
       "  </thead>\n",
       "  <tbody>\n",
       "    <tr>\n",
       "      <th>0</th>\n",
       "      <td>15420</td>\n",
       "      <td>Old Town, Princes Street and Leith Street</td>\n",
       "    </tr>\n",
       "    <tr>\n",
       "      <th>1</th>\n",
       "      <td>24288</td>\n",
       "      <td>Canongate, Southside and Dumbiedykes</td>\n",
       "    </tr>\n",
       "    <tr>\n",
       "      <th>2</th>\n",
       "      <td>38628</td>\n",
       "      <td>Joppa</td>\n",
       "    </tr>\n",
       "    <tr>\n",
       "      <th>3</th>\n",
       "      <td>47616</td>\n",
       "      <td>Canongate, Southside and Dumbiedykes</td>\n",
       "    </tr>\n",
       "    <tr>\n",
       "      <th>4</th>\n",
       "      <td>48645</td>\n",
       "      <td>Canongate, Southside and Dumbiedykes</td>\n",
       "    </tr>\n",
       "  </tbody>\n",
       "</table>\n",
       "</div>"
      ],
      "text/plain": [
       "      id                              neighbourhood\n",
       "0  15420  Old Town, Princes Street and Leith Street\n",
       "1  24288       Canongate, Southside and Dumbiedykes\n",
       "2  38628                                      Joppa\n",
       "3  47616       Canongate, Southside and Dumbiedykes\n",
       "4  48645       Canongate, Southside and Dumbiedykes"
      ]
     },
     "execution_count": 36,
     "metadata": {},
     "output_type": "execute_result"
    }
   ],
   "source": [
    "listings_nh.head()"
   ]
  },
  {
   "cell_type": "code",
   "execution_count": 37,
   "metadata": {},
   "outputs": [],
   "source": [
    "# renaming the id column to listing_id\n",
    "listings_nh = listings_nh.rename(columns={\"id\": \"listing_id\"}) "
   ]
  },
  {
   "cell_type": "code",
   "execution_count": 38,
   "metadata": {},
   "outputs": [
    {
     "data": {
      "text/html": [
       "<div>\n",
       "<style scoped>\n",
       "    .dataframe tbody tr th:only-of-type {\n",
       "        vertical-align: middle;\n",
       "    }\n",
       "\n",
       "    .dataframe tbody tr th {\n",
       "        vertical-align: top;\n",
       "    }\n",
       "\n",
       "    .dataframe thead th {\n",
       "        text-align: right;\n",
       "    }\n",
       "</style>\n",
       "<table border=\"1\" class=\"dataframe\">\n",
       "  <thead>\n",
       "    <tr style=\"text-align: right;\">\n",
       "      <th></th>\n",
       "      <th>listing_id</th>\n",
       "      <th>neighbourhood</th>\n",
       "    </tr>\n",
       "  </thead>\n",
       "  <tbody>\n",
       "    <tr>\n",
       "      <th>0</th>\n",
       "      <td>15420</td>\n",
       "      <td>Old Town, Princes Street and Leith Street</td>\n",
       "    </tr>\n",
       "    <tr>\n",
       "      <th>1</th>\n",
       "      <td>24288</td>\n",
       "      <td>Canongate, Southside and Dumbiedykes</td>\n",
       "    </tr>\n",
       "    <tr>\n",
       "      <th>2</th>\n",
       "      <td>38628</td>\n",
       "      <td>Joppa</td>\n",
       "    </tr>\n",
       "    <tr>\n",
       "      <th>3</th>\n",
       "      <td>47616</td>\n",
       "      <td>Canongate, Southside and Dumbiedykes</td>\n",
       "    </tr>\n",
       "    <tr>\n",
       "      <th>4</th>\n",
       "      <td>48645</td>\n",
       "      <td>Canongate, Southside and Dumbiedykes</td>\n",
       "    </tr>\n",
       "  </tbody>\n",
       "</table>\n",
       "</div>"
      ],
      "text/plain": [
       "   listing_id                              neighbourhood\n",
       "0       15420  Old Town, Princes Street and Leith Street\n",
       "1       24288       Canongate, Southside and Dumbiedykes\n",
       "2       38628                                      Joppa\n",
       "3       47616       Canongate, Southside and Dumbiedykes\n",
       "4       48645       Canongate, Southside and Dumbiedykes"
      ]
     },
     "execution_count": 38,
     "metadata": {},
     "output_type": "execute_result"
    }
   ],
   "source": [
    "listings_nh.head()"
   ]
  },
  {
   "cell_type": "code",
   "execution_count": 39,
   "metadata": {},
   "outputs": [],
   "source": [
    "# now merging the datasets calendar and new dataset listings_nh by using primary key/listing_id\n",
    "listings_calendar = pd.merge(calendar, listings_nh, on=['listing_id','listing_id'])"
   ]
  },
  {
   "cell_type": "code",
   "execution_count": 40,
   "metadata": {},
   "outputs": [
    {
     "data": {
      "text/plain": [
       "listing_id                 int64\n",
       "date              datetime64[ns]\n",
       "available                   bool\n",
       "price                    float64\n",
       "adjusted_price           float64\n",
       "minimum_nights             int64\n",
       "maximum_nights             int64\n",
       "neighbourhood             object\n",
       "dtype: object"
      ]
     },
     "execution_count": 40,
     "metadata": {},
     "output_type": "execute_result"
    }
   ],
   "source": [
    "listings_calendar.dtypes"
   ]
  },
  {
   "cell_type": "code",
   "execution_count": 41,
   "metadata": {},
   "outputs": [
    {
     "data": {
      "text/html": [
       "<div>\n",
       "<style scoped>\n",
       "    .dataframe tbody tr th:only-of-type {\n",
       "        vertical-align: middle;\n",
       "    }\n",
       "\n",
       "    .dataframe tbody tr th {\n",
       "        vertical-align: top;\n",
       "    }\n",
       "\n",
       "    .dataframe thead th {\n",
       "        text-align: right;\n",
       "    }\n",
       "</style>\n",
       "<table border=\"1\" class=\"dataframe\">\n",
       "  <thead>\n",
       "    <tr style=\"text-align: right;\">\n",
       "      <th></th>\n",
       "      <th>listing_id</th>\n",
       "      <th>date</th>\n",
       "      <th>available</th>\n",
       "      <th>price</th>\n",
       "      <th>adjusted_price</th>\n",
       "      <th>minimum_nights</th>\n",
       "      <th>maximum_nights</th>\n",
       "      <th>neighbourhood</th>\n",
       "    </tr>\n",
       "  </thead>\n",
       "  <tbody>\n",
       "    <tr>\n",
       "      <th>0</th>\n",
       "      <td>15420</td>\n",
       "      <td>2020-03-21</td>\n",
       "      <td>False</td>\n",
       "      <td>65.0</td>\n",
       "      <td>65.0</td>\n",
       "      <td>3</td>\n",
       "      <td>30</td>\n",
       "      <td>Old Town, Princes Street and Leith Street</td>\n",
       "    </tr>\n",
       "    <tr>\n",
       "      <th>1</th>\n",
       "      <td>15420</td>\n",
       "      <td>2020-03-22</td>\n",
       "      <td>True</td>\n",
       "      <td>65.0</td>\n",
       "      <td>65.0</td>\n",
       "      <td>3</td>\n",
       "      <td>30</td>\n",
       "      <td>Old Town, Princes Street and Leith Street</td>\n",
       "    </tr>\n",
       "    <tr>\n",
       "      <th>2</th>\n",
       "      <td>15420</td>\n",
       "      <td>2020-03-23</td>\n",
       "      <td>True</td>\n",
       "      <td>65.0</td>\n",
       "      <td>65.0</td>\n",
       "      <td>3</td>\n",
       "      <td>30</td>\n",
       "      <td>Old Town, Princes Street and Leith Street</td>\n",
       "    </tr>\n",
       "    <tr>\n",
       "      <th>3</th>\n",
       "      <td>15420</td>\n",
       "      <td>2020-03-24</td>\n",
       "      <td>True</td>\n",
       "      <td>65.0</td>\n",
       "      <td>65.0</td>\n",
       "      <td>3</td>\n",
       "      <td>30</td>\n",
       "      <td>Old Town, Princes Street and Leith Street</td>\n",
       "    </tr>\n",
       "    <tr>\n",
       "      <th>4</th>\n",
       "      <td>15420</td>\n",
       "      <td>2020-03-25</td>\n",
       "      <td>True</td>\n",
       "      <td>65.0</td>\n",
       "      <td>65.0</td>\n",
       "      <td>3</td>\n",
       "      <td>30</td>\n",
       "      <td>Old Town, Princes Street and Leith Street</td>\n",
       "    </tr>\n",
       "  </tbody>\n",
       "</table>\n",
       "</div>"
      ],
      "text/plain": [
       "   listing_id       date  available  price  adjusted_price  minimum_nights  \\\n",
       "0       15420 2020-03-21      False   65.0            65.0               3   \n",
       "1       15420 2020-03-22       True   65.0            65.0               3   \n",
       "2       15420 2020-03-23       True   65.0            65.0               3   \n",
       "3       15420 2020-03-24       True   65.0            65.0               3   \n",
       "4       15420 2020-03-25       True   65.0            65.0               3   \n",
       "\n",
       "   maximum_nights                              neighbourhood  \n",
       "0              30  Old Town, Princes Street and Leith Street  \n",
       "1              30  Old Town, Princes Street and Leith Street  \n",
       "2              30  Old Town, Princes Street and Leith Street  \n",
       "3              30  Old Town, Princes Street and Leith Street  \n",
       "4              30  Old Town, Princes Street and Leith Street  "
      ]
     },
     "execution_count": 41,
     "metadata": {},
     "output_type": "execute_result"
    }
   ],
   "source": [
    "listings_calendar.head()"
   ]
  },
  {
   "cell_type": "code",
   "execution_count": 42,
   "metadata": {},
   "outputs": [
    {
     "data": {
      "text/plain": [
       "listing_id                 int64\n",
       "date              datetime64[ns]\n",
       "available                   bool\n",
       "price                    float64\n",
       "adjusted_price           float64\n",
       "minimum_nights             int64\n",
       "maximum_nights             int64\n",
       "neighbourhood             object\n",
       "dtype: object"
      ]
     },
     "execution_count": 42,
     "metadata": {},
     "output_type": "execute_result"
    }
   ],
   "source": [
    "listings_calendar.dtypes"
   ]
  },
  {
   "cell_type": "code",
   "execution_count": 43,
   "metadata": {},
   "outputs": [],
   "source": [
    "#converting neighbourhood variable to categorical variable\n",
    "listings_calendar['neighbourhood'] = listings_calendar['neighbourhood'].astype('category')\n"
   ]
  },
  {
   "cell_type": "code",
   "execution_count": 44,
   "metadata": {},
   "outputs": [
    {
     "data": {
      "text/plain": [
       "listing_id                 int64\n",
       "date              datetime64[ns]\n",
       "available                   bool\n",
       "price                    float64\n",
       "adjusted_price           float64\n",
       "minimum_nights             int64\n",
       "maximum_nights             int64\n",
       "neighbourhood           category\n",
       "dtype: object"
      ]
     },
     "execution_count": 44,
     "metadata": {},
     "output_type": "execute_result"
    }
   ],
   "source": [
    "listings_calendar.dtypes"
   ]
  },
  {
   "cell_type": "code",
   "execution_count": 45,
   "metadata": {},
   "outputs": [
    {
     "data": {
      "text/plain": [
       "['Old Town, Princes Street and Leith Street',\n",
       " 'The Shore and Constitution Street',\n",
       " 'New Town East and Gayfield',\n",
       " 'Hillside and Calton Hill',\n",
       " 'Canongate, Southside and Dumbiedykes',\n",
       " 'Broughton North and Powderhall',\n",
       " 'Deans Village',\n",
       " 'Joppa',\n",
       " 'Bonnington',\n",
       " 'Broughton South',\n",
       " 'Meadowbank and Abbeyhill North',\n",
       " 'Bruntsfield',\n",
       " 'Pilrig',\n",
       " 'Merchiston and Greenhill',\n",
       " 'Comiston and Swanston',\n",
       " 'Western Harbour and Leith Docks',\n",
       " 'Marchmont West',\n",
       " 'Willowbrae and Duddingston Village',\n",
       " 'New Town West',\n",
       " 'Great Junction Street',\n",
       " 'Meadows and Southside',\n",
       " 'Shandon',\n",
       " 'Dalry and Fountainbridge',\n",
       " 'Corstorphine',\n",
       " 'Morningside',\n",
       " 'Tollcross',\n",
       " 'Abbeyhill',\n",
       " 'Easter Road and Hawkhill Avenue',\n",
       " 'Prestonfield',\n",
       " 'Barnton, Cammo and Cramond South',\n",
       " 'North Leith and Newhaven',\n",
       " 'Leith (Albert Street)',\n",
       " 'Stockbridge',\n",
       " 'Granton West and Salvesen',\n",
       " \"Siverknowes and Davidson's Mains\",\n",
       " 'Boswall and Pilton',\n",
       " 'Gorgie East',\n",
       " 'South Leith',\n",
       " 'Blackford, West Mains and Mayfield Road',\n",
       " 'The Grange',\n",
       " 'Polwarth',\n",
       " 'Baberton and Juniper Green',\n",
       " 'Marchmont East and Sciennes',\n",
       " 'Portobello',\n",
       " 'Ratho, Ingliston and Gogar',\n",
       " 'Leith (Hermitage and Prospect Bank)',\n",
       " 'Granton and Royston Mains',\n",
       " 'The Inch',\n",
       " 'Jewel, Brunstane and Newcraighall',\n",
       " 'Comely Bank',\n",
       " 'Craigmillar',\n",
       " 'Balgreen and Roseburn',\n",
       " 'Carrick Knowe',\n",
       " 'Canonmills and New Town North',\n",
       " 'Craigleith, Orchard Brae and Crewe Toll',\n",
       " 'Murrayfield and Ravelston',\n",
       " 'Queensferry East',\n",
       " 'Inverleith, Goldenacre and Warriston',\n",
       " 'Craigentinny',\n",
       " 'Liberton West and Braid Hills',\n",
       " 'Drylaw',\n",
       " 'Newington and Dalkeith Road',\n",
       " 'Trinity East and The Dudleys',\n",
       " 'Balerno and Bonnington Village',\n",
       " 'Dalmeny, Kirkliston and Newbridge',\n",
       " 'Morningside and Craighouse',\n",
       " 'Oxgangs',\n",
       " 'Gracemount, Southhouse and Burdiehouse',\n",
       " 'Corstorphine South',\n",
       " 'West Pilton',\n",
       " 'Colinton and Kingsknowe',\n",
       " 'Muirhouse',\n",
       " 'Duddingston and Portobello South',\n",
       " 'Moredun and Craigour',\n",
       " 'Craiglockhart',\n",
       " 'Bonaly and The Pentlands',\n",
       " 'Gilmerton South and the Murrays',\n",
       " 'Slateford and Chesser',\n",
       " 'Clermiston and Drumbrae',\n",
       " 'Blackhall',\n",
       " 'Mountcastle',\n",
       " 'Restalrig (Loganlea) and Craigentinny West',\n",
       " 'Fernieside and Moredun South',\n",
       " 'Cramond',\n",
       " 'Trinity',\n",
       " 'East Craigs South',\n",
       " 'Liberton East',\n",
       " 'Gorgie West',\n",
       " 'Greenbank and The Braids',\n",
       " 'Northfield and Piershill',\n",
       " 'Restalrig and Lochend',\n",
       " 'East Craigs North',\n",
       " 'Colinton Mains and Firrhill',\n",
       " 'Currie West',\n",
       " 'Longstone and Saughton',\n",
       " 'Currie East',\n",
       " 'The Calders',\n",
       " 'Stenhouse and Saughton Mains',\n",
       " 'Mortonhall and Anwickhill',\n",
       " 'Queensferry West',\n",
       " 'Parkhead and Sighthill',\n",
       " 'Bingham, Magdalene and The Christians',\n",
       " 'Hyvots and Gilmerton',\n",
       " 'Granton South and Wardieburn',\n",
       " 'Fairmilehead',\n",
       " 'Murrayburn and Wester Hailes North',\n",
       " 'Corstorphine North',\n",
       " 'South Gyle',\n",
       " 'Broomhouse and Bankhead',\n",
       " 'Clovenstone and Wester Hailes',\n",
       " 'Niddrie']"
      ]
     },
     "execution_count": 45,
     "metadata": {},
     "output_type": "execute_result"
    }
   ],
   "source": [
    "listings_calendar.neighbourhood.unique().tolist()"
   ]
  },
  {
   "cell_type": "code",
   "execution_count": 46,
   "metadata": {},
   "outputs": [],
   "source": [
    "# so, all the names in neighbourhood are proper and no need to make any changes"
   ]
  },
  {
   "cell_type": "code",
   "execution_count": 47,
   "metadata": {},
   "outputs": [],
   "source": [
    "# List of months and days of weeks for visualizations\n",
    "month_list=['Jan', 'Feb', 'Mar', 'Apr', 'May', 'Jun', 'Jul', 'Aug', 'Sep', 'Oct', 'Nov', 'Dec']\n",
    "week_list=['Mon','Tue','Wed','Thu','Fri','Sat','Sun']"
   ]
  },
  {
   "cell_type": "markdown",
   "metadata": {},
   "source": [
    "Question 1 # Price changes over months / ideal month to travel to get cheap holiday accomadation by neighbourhood"
   ]
  },
  {
   "cell_type": "code",
   "execution_count": 48,
   "metadata": {},
   "outputs": [],
   "source": [
    "avg_price_per_night_by_month = listings_calendar.groupby(listings_calendar['date'].dt.strftime('%m'))['price'].mean()\n",
    "avg_price_per_night_by_month = pd.DataFrame(avg_price_per_night_by_month).reset_index()"
   ]
  },
  {
   "cell_type": "code",
   "execution_count": 49,
   "metadata": {},
   "outputs": [
    {
     "data": {
      "text/html": [
       "<div>\n",
       "<style scoped>\n",
       "    .dataframe tbody tr th:only-of-type {\n",
       "        vertical-align: middle;\n",
       "    }\n",
       "\n",
       "    .dataframe tbody tr th {\n",
       "        vertical-align: top;\n",
       "    }\n",
       "\n",
       "    .dataframe thead th {\n",
       "        text-align: right;\n",
       "    }\n",
       "</style>\n",
       "<table border=\"1\" class=\"dataframe\">\n",
       "  <thead>\n",
       "    <tr style=\"text-align: right;\">\n",
       "      <th></th>\n",
       "      <th>date</th>\n",
       "      <th>price</th>\n",
       "    </tr>\n",
       "  </thead>\n",
       "  <tbody>\n",
       "    <tr>\n",
       "      <th>0</th>\n",
       "      <td>Jan</td>\n",
       "      <td>129.807443</td>\n",
       "    </tr>\n",
       "    <tr>\n",
       "      <th>1</th>\n",
       "      <td>Feb</td>\n",
       "      <td>133.266358</td>\n",
       "    </tr>\n",
       "    <tr>\n",
       "      <th>2</th>\n",
       "      <td>Mar</td>\n",
       "      <td>125.392183</td>\n",
       "    </tr>\n",
       "    <tr>\n",
       "      <th>3</th>\n",
       "      <td>Apr</td>\n",
       "      <td>108.690923</td>\n",
       "    </tr>\n",
       "    <tr>\n",
       "      <th>4</th>\n",
       "      <td>May</td>\n",
       "      <td>114.993909</td>\n",
       "    </tr>\n",
       "    <tr>\n",
       "      <th>5</th>\n",
       "      <td>Jun</td>\n",
       "      <td>114.397553</td>\n",
       "    </tr>\n",
       "    <tr>\n",
       "      <th>6</th>\n",
       "      <td>Jul</td>\n",
       "      <td>119.231177</td>\n",
       "    </tr>\n",
       "    <tr>\n",
       "      <th>7</th>\n",
       "      <td>Aug</td>\n",
       "      <td>161.888473</td>\n",
       "    </tr>\n",
       "    <tr>\n",
       "      <th>8</th>\n",
       "      <td>Sep</td>\n",
       "      <td>125.115128</td>\n",
       "    </tr>\n",
       "    <tr>\n",
       "      <th>9</th>\n",
       "      <td>Oct</td>\n",
       "      <td>124.019614</td>\n",
       "    </tr>\n",
       "    <tr>\n",
       "      <th>10</th>\n",
       "      <td>Nov</td>\n",
       "      <td>124.887985</td>\n",
       "    </tr>\n",
       "    <tr>\n",
       "      <th>11</th>\n",
       "      <td>Dec</td>\n",
       "      <td>130.828578</td>\n",
       "    </tr>\n",
       "  </tbody>\n",
       "</table>\n",
       "</div>"
      ],
      "text/plain": [
       "   date       price\n",
       "0   Jan  129.807443\n",
       "1   Feb  133.266358\n",
       "2   Mar  125.392183\n",
       "3   Apr  108.690923\n",
       "4   May  114.993909\n",
       "5   Jun  114.397553\n",
       "6   Jul  119.231177\n",
       "7   Aug  161.888473\n",
       "8   Sep  125.115128\n",
       "9   Oct  124.019614\n",
       "10  Nov  124.887985\n",
       "11  Dec  130.828578"
      ]
     },
     "execution_count": 49,
     "metadata": {},
     "output_type": "execute_result"
    }
   ],
   "source": [
    "avg_price_per_night_by_month['date'] = avg_price_per_night_by_month.replace(['01','02','03','04','05','06','07','08','09','10','11','12'], month_list)\n",
    "avg_price_per_night_by_month"
   ]
  },
  {
   "cell_type": "code",
   "execution_count": 50,
   "metadata": {},
   "outputs": [],
   "source": [
    "# From the above data, we can see that months Apr,May,June,July are the cheapest months to visit"
   ]
  },
  {
   "cell_type": "code",
   "execution_count": 52,
   "metadata": {},
   "outputs": [],
   "source": [
    "#Let's dig deep and see which weekday/s are cheapest\n",
    "\n",
    "avg_price_per_night_by_weekday = listings_calendar.groupby(listings_calendar['date'].dt.strftime('%w'))['price'].mean()\n",
    "avg_price_per_night_by_weekday = pd.DataFrame(avg_price_per_night_by_weekday).reset_index()"
   ]
  },
  {
   "cell_type": "code",
   "execution_count": 53,
   "metadata": {},
   "outputs": [
    {
     "data": {
      "text/html": [
       "<div>\n",
       "<style scoped>\n",
       "    .dataframe tbody tr th:only-of-type {\n",
       "        vertical-align: middle;\n",
       "    }\n",
       "\n",
       "    .dataframe tbody tr th {\n",
       "        vertical-align: top;\n",
       "    }\n",
       "\n",
       "    .dataframe thead th {\n",
       "        text-align: right;\n",
       "    }\n",
       "</style>\n",
       "<table border=\"1\" class=\"dataframe\">\n",
       "  <thead>\n",
       "    <tr style=\"text-align: right;\">\n",
       "      <th></th>\n",
       "      <th>date</th>\n",
       "      <th>price</th>\n",
       "    </tr>\n",
       "  </thead>\n",
       "  <tbody>\n",
       "    <tr>\n",
       "      <th>0</th>\n",
       "      <td>Mon</td>\n",
       "      <td>124.499965</td>\n",
       "    </tr>\n",
       "    <tr>\n",
       "      <th>1</th>\n",
       "      <td>Tue</td>\n",
       "      <td>123.133110</td>\n",
       "    </tr>\n",
       "    <tr>\n",
       "      <th>2</th>\n",
       "      <td>Wed</td>\n",
       "      <td>122.780331</td>\n",
       "    </tr>\n",
       "    <tr>\n",
       "      <th>3</th>\n",
       "      <td>Thu</td>\n",
       "      <td>123.347012</td>\n",
       "    </tr>\n",
       "    <tr>\n",
       "      <th>4</th>\n",
       "      <td>Fri</td>\n",
       "      <td>124.275466</td>\n",
       "    </tr>\n",
       "    <tr>\n",
       "      <th>5</th>\n",
       "      <td>Sat</td>\n",
       "      <td>131.835760</td>\n",
       "    </tr>\n",
       "    <tr>\n",
       "      <th>6</th>\n",
       "      <td>Sun</td>\n",
       "      <td>132.488356</td>\n",
       "    </tr>\n",
       "  </tbody>\n",
       "</table>\n",
       "</div>"
      ],
      "text/plain": [
       "  date       price\n",
       "0  Mon  124.499965\n",
       "1  Tue  123.133110\n",
       "2  Wed  122.780331\n",
       "3  Thu  123.347012\n",
       "4  Fri  124.275466\n",
       "5  Sat  131.835760\n",
       "6  Sun  132.488356"
      ]
     },
     "execution_count": 53,
     "metadata": {},
     "output_type": "execute_result"
    }
   ],
   "source": [
    "avg_price_per_night_by_weekday['date'] = avg_price_per_night_by_weekday.replace(['0','1','2','3','4','5','6'], week_list)\n",
    "avg_price_per_night_by_weekday"
   ]
  },
  {
   "cell_type": "code",
   "execution_count": 54,
   "metadata": {},
   "outputs": [],
   "source": [
    "#from the above data, we can see that Wednesday followed bu Tuesday,Thursday are the cheapest days to get a cheap booking"
   ]
  },
  {
   "cell_type": "code",
   "execution_count": 55,
   "metadata": {},
   "outputs": [],
   "source": [
    "#let's see which week is the cheapest in the whole year to get cheap accomadation\n",
    "avg_price_per_night_by_week = listings_calendar.groupby(listings_calendar['date'].dt.strftime('%W'))['price'].mean()\n",
    "avg_price_per_night_by_week = pd.DataFrame(avg_price_per_night_by_week).reset_index()"
   ]
  },
  {
   "cell_type": "code",
   "execution_count": 56,
   "metadata": {},
   "outputs": [
    {
     "data": {
      "text/html": [
       "<div>\n",
       "<style scoped>\n",
       "    .dataframe tbody tr th:only-of-type {\n",
       "        vertical-align: middle;\n",
       "    }\n",
       "\n",
       "    .dataframe tbody tr th {\n",
       "        vertical-align: top;\n",
       "    }\n",
       "\n",
       "    .dataframe thead th {\n",
       "        text-align: right;\n",
       "    }\n",
       "</style>\n",
       "<table border=\"1\" class=\"dataframe\">\n",
       "  <thead>\n",
       "    <tr style=\"text-align: right;\">\n",
       "      <th></th>\n",
       "      <th>week_number</th>\n",
       "      <th>price</th>\n",
       "    </tr>\n",
       "  </thead>\n",
       "  <tbody>\n",
       "    <tr>\n",
       "      <th>0</th>\n",
       "      <td>0</td>\n",
       "      <td>144.726364</td>\n",
       "    </tr>\n",
       "    <tr>\n",
       "      <th>1</th>\n",
       "      <td>1</td>\n",
       "      <td>128.575344</td>\n",
       "    </tr>\n",
       "    <tr>\n",
       "      <th>2</th>\n",
       "      <td>2</td>\n",
       "      <td>127.948278</td>\n",
       "    </tr>\n",
       "    <tr>\n",
       "      <th>3</th>\n",
       "      <td>3</td>\n",
       "      <td>128.036962</td>\n",
       "    </tr>\n",
       "    <tr>\n",
       "      <th>4</th>\n",
       "      <td>4</td>\n",
       "      <td>128.275368</td>\n",
       "    </tr>\n",
       "    <tr>\n",
       "      <th>5</th>\n",
       "      <td>5</td>\n",
       "      <td>132.736335</td>\n",
       "    </tr>\n",
       "    <tr>\n",
       "      <th>6</th>\n",
       "      <td>6</td>\n",
       "      <td>133.590007</td>\n",
       "    </tr>\n",
       "    <tr>\n",
       "      <th>7</th>\n",
       "      <td>7</td>\n",
       "      <td>133.255683</td>\n",
       "    </tr>\n",
       "    <tr>\n",
       "      <th>8</th>\n",
       "      <td>8</td>\n",
       "      <td>133.483406</td>\n",
       "    </tr>\n",
       "    <tr>\n",
       "      <th>9</th>\n",
       "      <td>9</td>\n",
       "      <td>137.651024</td>\n",
       "    </tr>\n",
       "    <tr>\n",
       "      <th>10</th>\n",
       "      <td>10</td>\n",
       "      <td>136.621687</td>\n",
       "    </tr>\n",
       "    <tr>\n",
       "      <th>11</th>\n",
       "      <td>11</td>\n",
       "      <td>128.852661</td>\n",
       "    </tr>\n",
       "    <tr>\n",
       "      <th>12</th>\n",
       "      <td>12</td>\n",
       "      <td>104.384929</td>\n",
       "    </tr>\n",
       "    <tr>\n",
       "      <th>13</th>\n",
       "      <td>13</td>\n",
       "      <td>106.350505</td>\n",
       "    </tr>\n",
       "    <tr>\n",
       "      <th>14</th>\n",
       "      <td>14</td>\n",
       "      <td>109.704340</td>\n",
       "    </tr>\n",
       "    <tr>\n",
       "      <th>15</th>\n",
       "      <td>15</td>\n",
       "      <td>109.368108</td>\n",
       "    </tr>\n",
       "    <tr>\n",
       "      <th>16</th>\n",
       "      <td>16</td>\n",
       "      <td>108.740076</td>\n",
       "    </tr>\n",
       "    <tr>\n",
       "      <th>17</th>\n",
       "      <td>17</td>\n",
       "      <td>110.850896</td>\n",
       "    </tr>\n",
       "    <tr>\n",
       "      <th>18</th>\n",
       "      <td>18</td>\n",
       "      <td>113.197182</td>\n",
       "    </tr>\n",
       "    <tr>\n",
       "      <th>19</th>\n",
       "      <td>19</td>\n",
       "      <td>112.632402</td>\n",
       "    </tr>\n",
       "    <tr>\n",
       "      <th>20</th>\n",
       "      <td>20</td>\n",
       "      <td>116.940447</td>\n",
       "    </tr>\n",
       "    <tr>\n",
       "      <th>21</th>\n",
       "      <td>21</td>\n",
       "      <td>116.683441</td>\n",
       "    </tr>\n",
       "    <tr>\n",
       "      <th>22</th>\n",
       "      <td>22</td>\n",
       "      <td>112.883530</td>\n",
       "    </tr>\n",
       "    <tr>\n",
       "      <th>23</th>\n",
       "      <td>23</td>\n",
       "      <td>113.657683</td>\n",
       "    </tr>\n",
       "    <tr>\n",
       "      <th>24</th>\n",
       "      <td>24</td>\n",
       "      <td>115.456314</td>\n",
       "    </tr>\n",
       "    <tr>\n",
       "      <th>25</th>\n",
       "      <td>25</td>\n",
       "      <td>116.225771</td>\n",
       "    </tr>\n",
       "    <tr>\n",
       "      <th>26</th>\n",
       "      <td>26</td>\n",
       "      <td>117.120374</td>\n",
       "    </tr>\n",
       "    <tr>\n",
       "      <th>27</th>\n",
       "      <td>27</td>\n",
       "      <td>117.742603</td>\n",
       "    </tr>\n",
       "    <tr>\n",
       "      <th>28</th>\n",
       "      <td>28</td>\n",
       "      <td>118.735912</td>\n",
       "    </tr>\n",
       "    <tr>\n",
       "      <th>29</th>\n",
       "      <td>29</td>\n",
       "      <td>120.309347</td>\n",
       "    </tr>\n",
       "    <tr>\n",
       "      <th>30</th>\n",
       "      <td>30</td>\n",
       "      <td>131.053924</td>\n",
       "    </tr>\n",
       "    <tr>\n",
       "      <th>31</th>\n",
       "      <td>31</td>\n",
       "      <td>159.598683</td>\n",
       "    </tr>\n",
       "    <tr>\n",
       "      <th>32</th>\n",
       "      <td>32</td>\n",
       "      <td>164.677671</td>\n",
       "    </tr>\n",
       "    <tr>\n",
       "      <th>33</th>\n",
       "      <td>33</td>\n",
       "      <td>164.434124</td>\n",
       "    </tr>\n",
       "    <tr>\n",
       "      <th>34</th>\n",
       "      <td>34</td>\n",
       "      <td>161.910850</td>\n",
       "    </tr>\n",
       "    <tr>\n",
       "      <th>35</th>\n",
       "      <td>35</td>\n",
       "      <td>126.836634</td>\n",
       "    </tr>\n",
       "    <tr>\n",
       "      <th>36</th>\n",
       "      <td>36</td>\n",
       "      <td>125.113271</td>\n",
       "    </tr>\n",
       "    <tr>\n",
       "      <th>37</th>\n",
       "      <td>37</td>\n",
       "      <td>126.393269</td>\n",
       "    </tr>\n",
       "    <tr>\n",
       "      <th>38</th>\n",
       "      <td>38</td>\n",
       "      <td>126.369756</td>\n",
       "    </tr>\n",
       "    <tr>\n",
       "      <th>39</th>\n",
       "      <td>39</td>\n",
       "      <td>124.700425</td>\n",
       "    </tr>\n",
       "    <tr>\n",
       "      <th>40</th>\n",
       "      <td>40</td>\n",
       "      <td>123.838434</td>\n",
       "    </tr>\n",
       "    <tr>\n",
       "      <th>41</th>\n",
       "      <td>41</td>\n",
       "      <td>123.702562</td>\n",
       "    </tr>\n",
       "    <tr>\n",
       "      <th>42</th>\n",
       "      <td>42</td>\n",
       "      <td>123.696944</td>\n",
       "    </tr>\n",
       "    <tr>\n",
       "      <th>43</th>\n",
       "      <td>43</td>\n",
       "      <td>123.747896</td>\n",
       "    </tr>\n",
       "    <tr>\n",
       "      <th>44</th>\n",
       "      <td>44</td>\n",
       "      <td>124.676316</td>\n",
       "    </tr>\n",
       "    <tr>\n",
       "      <th>45</th>\n",
       "      <td>45</td>\n",
       "      <td>125.001790</td>\n",
       "    </tr>\n",
       "    <tr>\n",
       "      <th>46</th>\n",
       "      <td>46</td>\n",
       "      <td>125.375927</td>\n",
       "    </tr>\n",
       "    <tr>\n",
       "      <th>47</th>\n",
       "      <td>47</td>\n",
       "      <td>125.153985</td>\n",
       "    </tr>\n",
       "    <tr>\n",
       "      <th>48</th>\n",
       "      <td>48</td>\n",
       "      <td>125.746996</td>\n",
       "    </tr>\n",
       "    <tr>\n",
       "      <th>49</th>\n",
       "      <td>49</td>\n",
       "      <td>125.824086</td>\n",
       "    </tr>\n",
       "    <tr>\n",
       "      <th>50</th>\n",
       "      <td>50</td>\n",
       "      <td>126.502993</td>\n",
       "    </tr>\n",
       "    <tr>\n",
       "      <th>51</th>\n",
       "      <td>51</td>\n",
       "      <td>133.655275</td>\n",
       "    </tr>\n",
       "    <tr>\n",
       "      <th>52</th>\n",
       "      <td>52</td>\n",
       "      <td>149.004916</td>\n",
       "    </tr>\n",
       "  </tbody>\n",
       "</table>\n",
       "</div>"
      ],
      "text/plain": [
       "    week_number       price\n",
       "0             0  144.726364\n",
       "1             1  128.575344\n",
       "2             2  127.948278\n",
       "3             3  128.036962\n",
       "4             4  128.275368\n",
       "5             5  132.736335\n",
       "6             6  133.590007\n",
       "7             7  133.255683\n",
       "8             8  133.483406\n",
       "9             9  137.651024\n",
       "10           10  136.621687\n",
       "11           11  128.852661\n",
       "12           12  104.384929\n",
       "13           13  106.350505\n",
       "14           14  109.704340\n",
       "15           15  109.368108\n",
       "16           16  108.740076\n",
       "17           17  110.850896\n",
       "18           18  113.197182\n",
       "19           19  112.632402\n",
       "20           20  116.940447\n",
       "21           21  116.683441\n",
       "22           22  112.883530\n",
       "23           23  113.657683\n",
       "24           24  115.456314\n",
       "25           25  116.225771\n",
       "26           26  117.120374\n",
       "27           27  117.742603\n",
       "28           28  118.735912\n",
       "29           29  120.309347\n",
       "30           30  131.053924\n",
       "31           31  159.598683\n",
       "32           32  164.677671\n",
       "33           33  164.434124\n",
       "34           34  161.910850\n",
       "35           35  126.836634\n",
       "36           36  125.113271\n",
       "37           37  126.393269\n",
       "38           38  126.369756\n",
       "39           39  124.700425\n",
       "40           40  123.838434\n",
       "41           41  123.702562\n",
       "42           42  123.696944\n",
       "43           43  123.747896\n",
       "44           44  124.676316\n",
       "45           45  125.001790\n",
       "46           46  125.375927\n",
       "47           47  125.153985\n",
       "48           48  125.746996\n",
       "49           49  125.824086\n",
       "50           50  126.502993\n",
       "51           51  133.655275\n",
       "52           52  149.004916"
      ]
     },
     "execution_count": 56,
     "metadata": {},
     "output_type": "execute_result"
    }
   ],
   "source": [
    "avg_price_per_night_by_week.columns = ['week_number','price']\n",
    "avg_price_per_night_by_week['week_number'] = avg_price_per_night_by_week['week_number'].astype(int)\n",
    "avg_price_per_night_by_week"
   ]
  },
  {
   "cell_type": "code",
   "execution_count": 57,
   "metadata": {},
   "outputs": [
    {
     "data": {
      "image/png": "[encoded data removed]",
      "text/plain": [
       "<Figure size 1440x720 with 1 Axes>"
      ]
     },
     "metadata": {
      "needs_background": "light"
     },
     "output_type": "display_data"
    }
   ],
   "source": [
    "'''\n",
    "x = len(avg_price_per_night_by_week)\n",
    "plt.bar(x, avg_price_per_night_by_week['price'])\n",
    "plt.ylabel('Price')\n",
    "plt.xticks(x,avg_price_per_night_by_week['week_number'],rotation='vertical')\n",
    "plt.show\n",
    "\n",
    "#df = pd.DataFrame(avg_price_per_night_by_week, columns = avg_price_per_night_by_week.columns ) \n",
    "  \n",
    "# create histogram for numeric data \n",
    "plt.bar(avg_price_per_night_by_week['week_number'],avg_price_per_night_by_week['price']) \n",
    "plt.xlabel(\"Weeks\") \n",
    "plt.ylabel(\"Price\")\n",
    "plt.xticks(avg_price_per_night_by_week['week_number'])\n",
    "# show plot \n",
    "plt.show() \n",
    "'''\n",
    "plt.figure(figsize=(20,10))\n",
    "plt.plot(avg_price_per_night_by_week['price'])\n",
    "plt.xlabel(\"Weeks\") \n",
    "plt.ylabel(\"Price\")\n",
    "plt.xticks(avg_price_per_night_by_week['week_number'])\n",
    "plt.axhline(calendar['price'].mean(),color='r',label='Avg for Year')\n",
    "plt.show()"
   ]
  },
  {
   "cell_type": "code",
   "execution_count": 58,
   "metadata": {},
   "outputs": [],
   "source": [
    "# from the above picture, we can see that cheapest weeks to book accomadation are week 12 to week 29 and then week 35 to week 40"
   ]
  },
  {
   "cell_type": "markdown",
   "metadata": {},
   "source": [
    "Question 2 # Cheapest place by neighbourhood per night"
   ]
  },
  {
   "cell_type": "code",
   "execution_count": 59,
   "metadata": {},
   "outputs": [
    {
     "data": {
      "text/plain": [
       "neighbourhood\n",
       "Niddrie                             39.214764\n",
       "Hyvots and Gilmerton                43.266945\n",
       "Moredun and Craigour                45.337197\n",
       "Clovenstone and Wester Hailes       46.000514\n",
       "Gilmerton South and the Murrays     46.320939\n",
       "                                      ...    \n",
       "Pilrig                             222.218469\n",
       "Leith (Albert Street)              242.604686\n",
       "Broomhouse and Bankhead            263.734027\n",
       "Parkhead and Sighthill             377.363616\n",
       "The Calders                        424.212507\n",
       "Name: price, Length: 111, dtype: float64"
      ]
     },
     "execution_count": 59,
     "metadata": {},
     "output_type": "execute_result"
    }
   ],
   "source": [
    "listings_calendar.groupby('neighbourhood')['price'].mean().sort_values(ascending=True)"
   ]
  },
  {
   "cell_type": "code",
   "execution_count": 60,
   "metadata": {},
   "outputs": [
    {
     "data": {
      "text/plain": [
       "'\\nFrom the above data, below are the top 5 neighbourhood/places where you can get cheap accomadation per night:\\n\\nNiddrie                             39.214764\\nHyvots and Gilmerton                43.266945\\nMoredun and Craigour                45.337197\\nClovenstone and Wester Hailes       46.000514\\nGilmerton South and the Murrays     46.320939\\n\\n'"
      ]
     },
     "execution_count": 60,
     "metadata": {},
     "output_type": "execute_result"
    }
   ],
   "source": [
    "'''\n",
    "From the above data, below are the top 5 neighbourhood/places where you can get cheap accomadation per night:\n",
    "\n",
    "Niddrie                             39.214764\n",
    "Hyvots and Gilmerton                43.266945\n",
    "Moredun and Craigour                45.337197\n",
    "Clovenstone and Wester Hailes       46.000514\n",
    "Gilmerton South and the Murrays     46.320939\n",
    "\n",
    "'''"
   ]
  },
  {
   "cell_type": "markdown",
   "metadata": {},
   "source": [
    "Question 3 # Occupancy ratio / percentage of each accomadation by neighbourhood for the whole year"
   ]
  },
  {
   "cell_type": "code",
   "execution_count": 61,
   "metadata": {},
   "outputs": [],
   "source": [
    "accom_occu = round(listings_calendar.groupby('neighbourhood')['available'].mean()*100,2)\n",
    "accom_occu = pd.DataFrame(accom_occu).reset_index()\n"
   ]
  },
  {
   "cell_type": "code",
   "execution_count": 62,
   "metadata": {},
   "outputs": [
    {
     "data": {
      "image/png": "[encoded data removed]",
      "text/plain": [
       "<Figure size 1440x720 with 1 Axes>"
      ]
     },
     "metadata": {
      "needs_background": "light"
     },
     "output_type": "display_data"
    }
   ],
   "source": [
    "'''\n",
    "accom_occu\n",
    "plt.figure(figsize=(20,10))\n",
    "plt.bar(accom_occu['neighbourhood'])\n",
    "plt.xlabel(\"neighbourhood\") \n",
    "plt.ylabel(\"available\")\n",
    "#plt.xticks(accom_occu['neighbourhood'].tolist())\n",
    "plt.show()\n",
    "'''\n",
    "plt.figure(figsize=(20,10))\n",
    "plt.bar(accom_occu['neighbourhood'],accom_occu['available'])\n",
    "plt.xticks(accom_occu['neighbourhood'],rotation='vertical')\n",
    "plt.axhline(accom_occu['available'].mean(),color='r',label='Avg availability per year')\n",
    "plt.show() "
   ]
  },
  {
   "cell_type": "code",
   "execution_count": 63,
   "metadata": {},
   "outputs": [],
   "source": [
    "# from the above picture we can see none on the accomadation's occupancy is not even 50% on average when you look at an year.\n",
    "# most of the accomadation's occupancy level is under 30% itself.\n",
    "\n",
    "\n",
    "# We may use the review dataset and dig more deep and find out if we can figure out by the feedback left by learning from it \n",
    "# and improving the service levels or facilities can boost up the occupancy or present neighbourhood accomadation might be too\n",
    "# much for avialable business? we don't know. That is beyond current assignemnet and it goes on.\n",
    "\n"
   ]
  },
  {
   "cell_type": "code",
   "execution_count": null,
   "metadata": {},
   "outputs": [],
   "source": []
  },
  {
   "cell_type": "code",
   "execution_count": null,
   "metadata": {},
   "outputs": [],
   "source": []
  },
  {
   "cell_type": "code",
   "execution_count": null,
   "metadata": {},
   "outputs": [],
   "source": []
  },
  {
   "cell_type": "code",
   "execution_count": null,
   "metadata": {},
   "outputs": [],
   "source": []
  },
  {
   "cell_type": "code",
   "execution_count": null,
   "metadata": {},
   "outputs": [],
   "source": []
  },
  {
   "cell_type": "code",
   "execution_count": null,
   "metadata": {},
   "outputs": [],
   "source": []
  },
  {
   "cell_type": "code",
   "execution_count": null,
   "metadata": {},
   "outputs": [],
   "source": []
  },
  {
   "cell_type": "code",
   "execution_count": null,
   "metadata": {},
   "outputs": [],
   "source": []
  },
  {
   "cell_type": "code",
   "execution_count": null,
   "metadata": {},
   "outputs": [],
   "source": []
  },
  {
   "cell_type": "code",
   "execution_count": null,
   "metadata": {
    "scrolled": true
   },
   "outputs": [],
   "source": []
  },
  {
   "cell_type": "code",
   "execution_count": null,
   "metadata": {},
   "outputs": [],
   "source": []
  },
  {
   "cell_type": "code",
   "execution_count": null,
   "metadata": {},
   "outputs": [],
   "source": []
  },
  {
   "cell_type": "code",
   "execution_count": 92,
   "metadata": {},
   "outputs": [],
   "source": []
  },
  {
   "cell_type": "code",
   "execution_count": 93,
   "metadata": {},
   "outputs": [],
   "source": [
    "\n"
   ]
  },
  {
   "cell_type": "code",
   "execution_count": 94,
   "metadata": {},
   "outputs": [],
   "source": []
  },
  {
   "cell_type": "code",
   "execution_count": 95,
   "metadata": {},
   "outputs": [],
   "source": []
  },
  {
   "cell_type": "code",
   "execution_count": null,
   "metadata": {},
   "outputs": [],
   "source": []
  },
  {
   "cell_type": "code",
   "execution_count": null,
   "metadata": {},
   "outputs": [],
   "source": []
  },
  {
   "cell_type": "code",
   "execution_count": 97,
   "metadata": {},
   "outputs": [],
   "source": []
  },
  {
   "cell_type": "code",
   "execution_count": null,
   "metadata": {},
   "outputs": [],
   "source": []
  },
  {
   "cell_type": "code",
   "execution_count": 108,
   "metadata": {},
   "outputs": [],
   "source": []
  },
  {
   "cell_type": "code",
   "execution_count": null,
   "metadata": {},
   "outputs": [],
   "source": []
  },
  {
   "cell_type": "code",
   "execution_count": null,
   "metadata": {},
   "outputs": [],
   "source": []
  },
  {
   "cell_type": "code",
   "execution_count": null,
   "metadata": {},
   "outputs": [],
   "source": []
  },
  {
   "cell_type": "code",
   "execution_count": 94,
   "metadata": {},
   "outputs": [],
   "source": []
  },
  {
   "cell_type": "code",
   "execution_count": null,
   "metadata": {},
   "outputs": [],
   "source": []
  },
  {
   "cell_type": "code",
   "execution_count": null,
   "metadata": {
    "scrolled": true
   },
   "outputs": [],
   "source": []
  },
  {
   "cell_type": "code",
   "execution_count": null,
   "metadata": {
    "scrolled": true
   },
   "outputs": [],
   "source": []
  },
  {
   "cell_type": "code",
   "execution_count": null,
   "metadata": {
    "scrolled": true
   },
   "outputs": [],
   "source": []
  },
  {
   "cell_type": "code",
   "execution_count": null,
   "metadata": {},
   "outputs": [],
   "source": [
    "\n"
   ]
  },
  {
   "cell_type": "code",
   "execution_count": null,
   "metadata": {},
   "outputs": [],
   "source": []
  },
  {
   "cell_type": "code",
   "execution_count": null,
   "metadata": {},
   "outputs": [],
   "source": []
  },
  {
   "cell_type": "code",
   "execution_count": null,
   "metadata": {},
   "outputs": [],
   "source": []
  },
  {
   "cell_type": "code",
   "execution_count": null,
   "metadata": {},
   "outputs": [],
   "source": []
  },
  {
   "cell_type": "code",
   "execution_count": null,
   "metadata": {},
   "outputs": [],
   "source": []
  },
  {
   "cell_type": "code",
   "execution_count": null,
   "metadata": {},
   "outputs": [],
   "source": []
  },
  {
   "cell_type": "code",
   "execution_count": null,
   "metadata": {},
   "outputs": [],
   "source": []
  },
  {
   "cell_type": "code",
   "execution_count": null,
   "metadata": {},
   "outputs": [],
   "source": []
  },
  {
   "cell_type": "code",
   "execution_count": null,
   "metadata": {},
   "outputs": [],
   "source": []
  },
  {
   "cell_type": "code",
   "execution_count": null,
   "metadata": {},
   "outputs": [],
   "source": []
  },
  {
   "cell_type": "code",
   "execution_count": null,
   "metadata": {},
   "outputs": [],
   "source": []
  },
  {
   "cell_type": "code",
   "execution_count": null,
   "metadata": {},
   "outputs": [],
   "source": []
  },
  {
   "cell_type": "code",
   "execution_count": null,
   "metadata": {},
   "outputs": [],
   "source": []
  },
  {
   "cell_type": "code",
   "execution_count": null,
   "metadata": {},
   "outputs": [],
   "source": []
  },
  {
   "cell_type": "code",
   "execution_count": null,
   "metadata": {},
   "outputs": [],
   "source": []
  },
  {
   "cell_type": "code",
   "execution_count": null,
   "metadata": {},
   "outputs": [],
   "source": []
  },
  {
   "cell_type": "code",
   "execution_count": null,
   "metadata": {},
   "outputs": [],
   "source": []
  },
  {
   "cell_type": "code",
   "execution_count": 92,
   "metadata": {},
   "outputs": [],
   "source": [
    "\n"
   ]
  },
  {
   "cell_type": "code",
   "execution_count": null,
   "metadata": {},
   "outputs": [],
   "source": []
  },
  {
   "cell_type": "code",
   "execution_count": null,
   "metadata": {},
   "outputs": [],
   "source": []
  },
  {
   "cell_type": "code",
   "execution_count": null,
   "metadata": {},
   "outputs": [],
   "source": []
  },
  {
   "cell_type": "code",
   "execution_count": 96,
   "metadata": {},
   "outputs": [],
   "source": [
    "\n"
   ]
  },
  {
   "cell_type": "code",
   "execution_count": null,
   "metadata": {},
   "outputs": [],
   "source": []
  },
  {
   "cell_type": "code",
   "execution_count": null,
   "metadata": {},
   "outputs": [],
   "source": []
  },
  {
   "cell_type": "code",
   "execution_count": null,
   "metadata": {},
   "outputs": [],
   "source": []
  },
  {
   "cell_type": "code",
   "execution_count": null,
   "metadata": {},
   "outputs": [],
   "source": []
  },
  {
   "cell_type": "code",
   "execution_count": null,
   "metadata": {},
   "outputs": [],
   "source": []
  },
  {
   "cell_type": "code",
   "execution_count": null,
   "metadata": {},
   "outputs": [],
   "source": []
  }
 ],
 "metadata": {
  "kernelspec": {
   "display_name": "Python 3",
   "language": "python",
   "name": "python3"
  },
  "language_info": {
   "codemirror_mode": {
    "name": "ipython",
    "version": 3
   },
   "file_extension": ".py",
   "mimetype": "text/x-python",
   "name": "python",
   "nbconvert_exporter": "python",
   "pygments_lexer": "ipython3",
   "version": "3.7.6"
  }
 },
 "nbformat": 4,
 "nbformat_minor": 2
}
